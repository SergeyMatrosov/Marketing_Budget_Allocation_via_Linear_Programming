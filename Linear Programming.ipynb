{
 "cells": [
  {
   "cell_type": "code",
   "execution_count": 26,
   "metadata": {},
   "outputs": [],
   "source": [
    "#1/5*Search + 1/8*Display -> maximize\n",
    "#equals to:\n",
    "#0,2*Search + 0,125*Display -> maximize\n",
    "\n",
    "#constraits: \n",
    "#1. Search + Display <= 10.000$\n",
    "#2. Display >= 6.000$\n",
    "#3. 0 <= Search <= 10.000$\n",
    "#4. Display <= 10.000$"
   ]
  },
  {
   "cell_type": "code",
   "execution_count": 36,
   "metadata": {},
   "outputs": [
    {
     "data": {
      "text/plain": [
       "array([3999.99996487, 6000.00003415])"
      ]
     },
     "execution_count": 36,
     "metadata": {},
     "output_type": "execute_result"
    }
   ],
   "source": [
    "import numpy as np\n",
    "from scipy.optimize import linprog\n",
    "\n",
    "#We want to maximize the objective function\n",
    "#but linprog can accept only a minimization problem\n",
    "#need to convert 0,2*Search + 0,125*Display -> maximize to\n",
    "#-0,2*Search - 0,125*Display -> minimize\n",
    "#we take only coefficients of this function\n",
    "function = np.array([-0.2, -0.125])\n",
    "\n",
    "#constrains\n",
    "#1 Here we need to take only coeffs.\n",
    "A_eq = np.array([[1, 1]])\n",
    "b_eq = np.array([10000])\n",
    "\n",
    "#2 Here we also need to convert coeffs to (-coeffs).\n",
    "A_ub = np.array([[0, -1]])\n",
    "b_ub = np.array([-6000])\n",
    "\n",
    "#bounds as constrains 3 and 4\n",
    "x0_bounds = (0, 10000)\n",
    "x1_bounds = (6000, 10000)\n",
    "bounds = [x0_bounds, x1_bounds]\n",
    "\n",
    "#Calculation\n",
    "result = linprog(function, A_ub=A_ub, b_ub=b_ub, A_eq=A_eq, b_eq=b_eq, bounds=bounds)\n",
    "result.x"
   ]
  },
  {
   "cell_type": "code",
   "execution_count": 34,
   "metadata": {
    "scrolled": true
   },
   "outputs": [
    {
     "name": "stdout",
     "output_type": "stream",
     "text": [
      "3999.9999999\n",
      "6000.0000001\n"
     ]
    }
   ],
   "source": [
    "#using GEKKO\n",
    "from gekko import GEKKO\n",
    "\n",
    "m = GEKKO()\n",
    "\n",
    "#function\n",
    "m.Maximize(0.2*x1 + 0.125*x2)\n",
    "\n",
    "#Constraits\n",
    "m.Equation(x1 + x2 <= 10000)\n",
    "m.Equation(x2 >= 6000)\n",
    "\n",
    "#Constraits as bounds\n",
    "x1 = m.Var(lb=0, ub=10000)\n",
    "x2 = m.Var(lb=0, ub=10000)\n",
    "\n",
    "#Calculation\n",
    "m.solve(disp=False)\n",
    "p1 = x1.value[0] \n",
    "p2 = x2.value[0]\n",
    "print(p1)\n",
    "print(p2)"
   ]
  }
 ],
 "metadata": {
  "kernelspec": {
   "display_name": "Python 3",
   "language": "python",
   "name": "python3"
  },
  "language_info": {
   "codemirror_mode": {
    "name": "ipython",
    "version": 3
   },
   "file_extension": ".py",
   "mimetype": "text/x-python",
   "name": "python",
   "nbconvert_exporter": "python",
   "pygments_lexer": "ipython3",
   "version": "3.8.3"
  }
 },
 "nbformat": 4,
 "nbformat_minor": 4
}
